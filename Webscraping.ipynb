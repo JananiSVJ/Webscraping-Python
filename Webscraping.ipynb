{
 "cells": [
  {
   "cell_type": "code",
   "execution_count": 3,
   "metadata": {},
   "outputs": [],
   "source": [
    "!pip3 install beautifulsoup4"
   ]
  },
  {
   "cell_type": "code",
   "execution_count": 211,
   "metadata": {},
   "outputs": [],
   "source": [
    "from urllib.request import urlopen\n",
    "from bs4 import BeautifulSoup\n",
    "import requests\n",
    "import pandas as pd\n",
    "import io"
   ]
  },
  {
   "cell_type": "code",
   "execution_count": 212,
   "metadata": {},
   "outputs": [],
   "source": [
    "no_pages = 2\n",
    "\n",
    "def remove_invalid_chars(string):\n",
    "    alphanumeric = \"\"\n",
    "    for character in string:\n",
    "        if(character==\",\" or character==\".\" or character==\"₹\"):\n",
    "            alphanumeric += character\n",
    "        elif character.isspace():\n",
    "            alphanumeric += character\n",
    "        elif character.isalnum():\n",
    "            alphanumeric += character\n",
    "        \n",
    "    return alphanumeric\n",
    "\n",
    "def get_data(pageNo):  \n",
    "    headers = {\"User-Agent\":\"Mozilla/5.0 (Windows NT 10.0; Win64; x64; rv:66.0) Gecko/20100101 Firefox/66.0\", \"Accept-Encoding\":\"gzip, deflate\", \"Accept\":\"text/html,application/xhtml+xml,application/xml;q=0.9,*/*;q=0.8\", \"DNT\":\"1\",\"Connection\":\"close\", \"Upgrade-Insecure-Requests\":\"1\"}\n",
    "\n",
    "    All_Details=[]\n",
    "    \n",
    "    r = requests.get('https://www.amazon.in/gp/bestsellers/books/ref=zg_bs_pg_'+str(pageNo)+'?ie=UTF8&pg='+str(pageNo), headers=headers)#, proxies=proxies)\n",
    "    content = r.content\n",
    "    soup = BeautifulSoup(content)\n",
    "\n",
    "    for d in soup.findAll('div', attrs={'class':'a-section a-spacing-none aok-relative'}):\n",
    "        name = d.find('span', attrs={'class':'zg-text-center-align'})\n",
    "        n = name.find_all('img', alt=True)\n",
    "        author = d.find('a', attrs={'class':'a-size-small a-link-child'})\n",
    "        rating = d.find('span', attrs={'class':'a-icon-alt'})\n",
    "        users_rated = d.find('a', attrs={'class':'a-size-small a-link-normal'})\n",
    "        price = d.find('span', attrs={'class':'p13n-sc-price'})\n",
    "   \n",
    "\n",
    "        if name is not None:\n",
    "            valid_string = remove_invalid_chars(n[0]['alt']) \n",
    "            All_Details.append(valid_string)\n",
    "        else:\n",
    "            All_Details.append(\"Unknow Product\")\n",
    "    \n",
    "    \n",
    "        if author is not None:\n",
    "            valid_string = remove_invalid_chars(author.text)\n",
    "            All_Details.append(valid_string)\n",
    "        elif author is None:\n",
    "            sec_author = d.find('span', attrs={'class':'a-size-small a-color-base'})\n",
    "            if sec_author is not None:\n",
    "                valid_string = remove_invalid_chars(sec_author.text)\n",
    "                All_Details.append(valid_string)\n",
    "            else:\n",
    "                All_Details.append(\"Author not specified\")\n",
    "\n",
    "   \n",
    "        if rating is not None:\n",
    "            valid_string = remove_invalid_chars(rating.text)\n",
    "            All_Details.append(valid_string)\n",
    "        else:\n",
    "            All_Details.append(\"No ratings\")\n",
    "\n",
    "  \n",
    "        if users_rated is not None:\n",
    "            valid_string = remove_invalid_chars(users_rated.text)\n",
    "            All_Details.append(valid_string)\n",
    "        else:\n",
    "            All_Details.append(\"0\")\n",
    "    \n",
    "        if price is not None:\n",
    "            valid_string = remove_invalid_chars(price.text)\n",
    "            All_Details.append(valid_string.replace(\"₹\",\"Rs.\"))\n",
    "        else:\n",
    "            All_Details.append(\"Price not specified\")\n",
    "    return All_Details\n",
    "    \n",
    "results = []\n",
    "for i in range(1, no_pages+1):\n",
    "    results.append(get_data(i))\n",
    "   # print(results)"
   ]
  },
  {
   "cell_type": "code",
   "execution_count": 216,
   "metadata": {},
   "outputs": [],
   "source": [
    "filename = \"products.csv\"\n",
    "with io.open(filename,\"w\",encoding=\"utf-8\") as f:\n",
    "    headers = \"Book_Name, Author, Rating, Customers_Rated, Price\\n\"\n",
    "#f.write(headers)\n",
    "    for item in results:\n",
    "        for i in item:\n",
    "            f.write(i+\"\\n\")"
   ]
  },
  {
   "cell_type": "code",
   "execution_count": null,
   "metadata": {},
   "outputs": [],
   "source": []
  }
 ],
 "metadata": {
  "kernelspec": {
   "display_name": "Python 3",
   "language": "python",
   "name": "python3"
  },
  "language_info": {
   "codemirror_mode": {
    "name": "ipython",
    "version": 3
   },
   "file_extension": ".py",
   "mimetype": "text/x-python",
   "name": "python",
   "nbconvert_exporter": "python",
   "pygments_lexer": "ipython3",
   "version": "3.7.4"
  }
 },
 "nbformat": 4,
 "nbformat_minor": 2
}
